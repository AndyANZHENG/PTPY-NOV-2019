{
 "cells": [
  {
   "cell_type": "markdown",
   "metadata": {},
   "source": [
    "# Logic and Loops 2"
   ]
  },
  {
   "cell_type": "markdown",
   "metadata": {},
   "source": [
    "1) Create a function that decides whether a party should be organized or not, with the number of people and which day it will be on as its input. The criteria for the party to be organized is as follows:\n",
    "\n",
    "- The party must be on Fridays, Saturdays or Sundays.\n",
    "- The party has to have at least 40 people.\n",
    "\n",
    "The function should return either True or False."
   ]
  },
  {
   "cell_type": "code",
   "execution_count": null,
   "metadata": {},
   "outputs": [],
   "source": []
  },
  {
   "cell_type": "markdown",
   "metadata": {},
   "source": [
    "2) You were stopped by a police officer because the officer thought you were speeding. Create a function with the input of your speed to decide what kind of ticket the police officer should give you. The ticket values are as follows:\n",
    "\n",
    "- 0: no ticket\n",
    "- 1: small ticket\n",
    "- 2: big ticket\n",
    "\n",
    "If your speed is 60 or less, you get no ticket. If your speed is between 61-100 inclusive, you get a small ticket. If your speed is 101 or more, you get a big ticket.\n",
    "\n",
    "The function should return the ticket value."
   ]
  },
  {
   "cell_type": "code",
   "execution_count": null,
   "metadata": {},
   "outputs": [],
   "source": []
  },
  {
   "cell_type": "markdown",
   "metadata": {},
   "source": [
    "3) Create a function given a day of the week encoded as 0=Sun, 1=Mon, 2=Tue, ...6=Sat, and a boolean indicating if we are on vacation. The alarm time criteria should be as follows:\n",
    "\n",
    "- The alarm time should be 5:00 on weekdays.\n",
    "- On weekends, the alarm time should be 7:00.\n",
    "- If on vacation, the alarm time must always be 6:30.\n",
    "\n",
    "The function should return a string of the form \"7:00\" indicating when the alarm clock should ring."
   ]
  },
  {
   "cell_type": "code",
   "execution_count": null,
   "metadata": {},
   "outputs": [],
   "source": []
  },
  {
   "cell_type": "markdown",
   "metadata": {},
   "source": [
    "4) We need to make a row of bricks that is exactly x inches long. The available bricks is as follows:\n",
    "\n",
    "- small: 1 inch\n",
    "- big: 5 inches\n",
    "\n",
    "As such, create a function that takes in the number of small and big bricks we have available, as well as the x. The function should return True if we can make a row of bricks that is exactly x inches long. Else, return False."
   ]
  },
  {
   "cell_type": "code",
   "execution_count": null,
   "metadata": {},
   "outputs": [],
   "source": []
  },
  {
   "cell_type": "markdown",
   "metadata": {},
   "source": [
    "5) Create a function that given 3 integer values, a b c, return their sum. However, if one of the values is 13 then it does not count towards the sum. "
   ]
  },
  {
   "cell_type": "code",
   "execution_count": null,
   "metadata": {},
   "outputs": [],
   "source": []
  },
  {
   "cell_type": "markdown",
   "metadata": {},
   "source": [
    "6) Create a function that given 3 integer values, return their sum. However, each value should be rounded off to the nearest ten before adding them all together."
   ]
  },
  {
   "cell_type": "code",
   "execution_count": null,
   "metadata": {},
   "outputs": [],
   "source": []
  },
  {
   "cell_type": "markdown",
   "metadata": {},
   "source": [
    "7) Create a function that returns True if the string \"cat\" and \"dog\" appear the same number of times in the given string. Else, return False.\n",
    "\n"
   ]
  },
  {
   "cell_type": "code",
   "execution_count": null,
   "metadata": {},
   "outputs": [],
   "source": []
  },
  {
   "cell_type": "markdown",
   "metadata": {},
   "source": [
    "8) Create a function that returns the number of times that the string \"hi\" appears anywhere in the given string."
   ]
  },
  {
   "cell_type": "code",
   "execution_count": null,
   "metadata": {},
   "outputs": [],
   "source": []
  },
  {
   "cell_type": "markdown",
   "metadata": {},
   "source": [
    "9) Create a function that return the number of even integers in the given list. Note: the % \"mod\" operator computes the remainder, e.g. 5 % 2 is 1."
   ]
  },
  {
   "cell_type": "code",
   "execution_count": null,
   "metadata": {},
   "outputs": [],
   "source": []
  },
  {
   "cell_type": "markdown",
   "metadata": {},
   "source": [
    "10) Given a list of integers, create a function that returns the difference between the largest and smallest values of the list."
   ]
  },
  {
   "cell_type": "code",
   "execution_count": null,
   "metadata": {},
   "outputs": [],
   "source": []
  }
 ],
 "metadata": {
  "kernelspec": {
   "display_name": "Python 3",
   "language": "python",
   "name": "python3"
  },
  "language_info": {
   "codemirror_mode": {
    "name": "ipython",
    "version": 3
   },
   "file_extension": ".py",
   "mimetype": "text/x-python",
   "name": "python",
   "nbconvert_exporter": "python",
   "pygments_lexer": "ipython3",
   "version": "3.7.3"
  }
 },
 "nbformat": 4,
 "nbformat_minor": 2
}
