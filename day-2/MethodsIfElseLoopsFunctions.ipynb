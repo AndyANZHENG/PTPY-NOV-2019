{
 "cells": [
  {
   "cell_type": "markdown",
   "metadata": {},
   "source": [
    "# Python Basics Introduction II\n",
    "\n",
    "The learning objectives are:\n",
    "* Methods:\n",
    "    * String Methods\n",
    "    * Data Container Methods\n",
    "* In & Not In Statements  \n",
    "* If...Else Statements\n",
    "    * Elif\n",
    "    * Nested\n",
    "* Loops Statements\n",
    "    * For Loops\n",
    "    * While Loops\n",
    "* User Defined Functions\n",
    "    * Lambda Expressions\n",
    "* List Comprehension and Dictionary Comprehension\n",
    "* Datetime Module"
   ]
  },
  {
   "cell_type": "markdown",
   "metadata": {},
   "source": [
    "### Methods\n",
    "\n",
    "Methods are functions that is called on an object (Python's abstraction for data). Different data types have different methods. The syntax to call a method on an object is `object.methodname()`. In a Jupyter Notebook, after adding a `.` on an object, press `Tab` to bring a up list of possible methods to call on this object.\n",
    "\n",
    "##### Example:\n",
    "```python\n",
    "\n",
    "x = [1,2,3]\n",
    "x.append(5)\n",
    "\n",
    "\n",
    "```\n",
    "\n",
    "In the example code  `.append()` is a method for the variable x, a list object. This method appends an object at the end of a list. As with built-in Python functions, press `shift+tab` to view a method's docstring.\n",
    "\n",
    "Alternatively, passing an object in `help()` will return a more detail version of all possible methods for that data type.\n",
    "\n",
    "##### Examples:\n",
    "```python\n",
    "\n",
    "help(x) , help(str) , help(dict)\n",
    "\n",
    "```\n",
    "\n",
    "*** Note: Methods for mathematical computing will be learned in NumPy ***"
   ]
  },
  {
   "cell_type": "code",
   "execution_count": 90,
   "metadata": {},
   "outputs": [
    {
     "data": {
      "text/plain": [
       "[1, 2, 3, 5]"
      ]
     },
     "execution_count": 90,
     "metadata": {},
     "output_type": "execute_result"
    }
   ],
   "source": [
    "x = [1,2,3]\n",
    "x.append(5)\n",
    "x"
   ]
  },
  {
   "cell_type": "markdown",
   "metadata": {},
   "source": [
    "### String Methods\n",
    "\n",
    "Strings have two types of methods, a String Method and Boolean String Method. For a String Method, all methods returns a new value. Boolean String Method will always returns a boolean `True` or `False`. "
   ]
  },
  {
   "cell_type": "markdown",
   "metadata": {},
   "source": [
    "##### Common Boolean String Methods Examples:\n",
    "\n",
    "* `.isalnum()` - Returns True if string is only alphabetic and numeric, otherwise False.\n",
    "* `.isalpha()` - Returns True if string is all alphabetic, otherwise False.\n",
    "* `.isdigit()` - Returns True if string is all numeric, otherwise False.\n",
    "* `.islower()` - Returns True if string is all in lowercase alphabetic, otherwise False\n",
    "* `.isupper()` - Returns True if string is all in uppercase alphabetic, otherwise False.\n",
    "* `.endswith()` - Returns True if string ends with specified string value,  otherwise False.\n",
    "* `.startswith()` - Returns True if string starts with sepecified string value, otherwise False."
   ]
  },
  {
   "cell_type": "code",
   "execution_count": 92,
   "metadata": {},
   "outputs": [
    {
     "data": {
      "text/plain": [
       "True"
      ]
     },
     "execution_count": 92,
     "metadata": {},
     "output_type": "execute_result"
    }
   ],
   "source": [
    "# .isalnum() - No substring is passed inside ()\n",
    "\"abc123\".isalnum()"
   ]
  },
  {
   "cell_type": "code",
   "execution_count": 93,
   "metadata": {},
   "outputs": [
    {
     "name": "stdout",
     "output_type": "stream",
     "text": [
      "True\n"
     ]
    }
   ],
   "source": [
    "# .isalnum() \n",
    "alpha_num = \"python37\"\n",
    "print(alpha_num.isalnum())"
   ]
  },
  {
   "cell_type": "code",
   "execution_count": 94,
   "metadata": {},
   "outputs": [
    {
     "name": "stdout",
     "output_type": "stream",
     "text": [
      "Is Python all alphabetic? True\n"
     ]
    }
   ],
   "source": [
    "# .isalpha() - No substring is passed inside ()\n",
    "my_alpha = \"Python\"\n",
    "print(\"Is {} all alphabetic? {}\".format(my_alpha, my_alpha.isalpha()))"
   ]
  },
  {
   "cell_type": "code",
   "execution_count": 95,
   "metadata": {},
   "outputs": [
    {
     "data": {
      "text/plain": [
       "True"
      ]
     },
     "execution_count": 95,
     "metadata": {},
     "output_type": "execute_result"
    }
   ],
   "source": [
    "# .isalpha() - \n",
    "swapcase = \"SwApCaSe\"\n",
    "swapcase.isalpha()"
   ]
  },
  {
   "cell_type": "code",
   "execution_count": 96,
   "metadata": {},
   "outputs": [
    {
     "name": "stdout",
     "output_type": "stream",
     "text": [
      "Is 0 an integer? True\n"
     ]
    }
   ],
   "source": [
    "# .isdigit() - No substring is passed inside ()\n",
    "birdie = '0'\n",
    "print(\"Is {} an integer? {}\".format(birdie, birdie.isdigit()))"
   ]
  },
  {
   "cell_type": "code",
   "execution_count": 98,
   "metadata": {},
   "outputs": [
    {
     "data": {
      "text/plain": [
       "True"
      ]
     },
     "execution_count": 98,
     "metadata": {},
     "output_type": "execute_result"
    }
   ],
   "source": [
    "'0'.isdigit()"
   ]
  },
  {
   "cell_type": "code",
   "execution_count": 6,
   "metadata": {},
   "outputs": [
    {
     "name": "stdout",
     "output_type": "stream",
     "text": [
      "This is Python 101? True\n"
     ]
    }
   ],
   "source": [
    "# .isdigit() \n",
    "print(\"This is Python 101?\", \"101\".isdigit())"
   ]
  },
  {
   "cell_type": "code",
   "execution_count": 99,
   "metadata": {},
   "outputs": [
    {
     "data": {
      "text/plain": [
       "False"
      ]
     },
     "execution_count": 99,
     "metadata": {},
     "output_type": "execute_result"
    }
   ],
   "source": [
    "'ab21'.isdigit()"
   ]
  },
  {
   "cell_type": "code",
   "execution_count": 101,
   "metadata": {},
   "outputs": [
    {
     "data": {
      "text/plain": [
       "True"
      ]
     },
     "execution_count": 101,
     "metadata": {},
     "output_type": "execute_result"
    }
   ],
   "source": [
    "# .islower() - No substring is passed inside ()\n",
    "\"python 101\".islower()"
   ]
  },
  {
   "cell_type": "code",
   "execution_count": 102,
   "metadata": {},
   "outputs": [
    {
     "name": "stdout",
     "output_type": "stream",
     "text": [
      "Is SwApCaSe in all lowercase format? False\n"
     ]
    }
   ],
   "source": [
    "# .islower()\n",
    "print(\"Is \" + swapcase + \" in all lowercase format?\",swapcase.islower())"
   ]
  },
  {
   "cell_type": "code",
   "execution_count": 103,
   "metadata": {},
   "outputs": [
    {
     "name": "stdout",
     "output_type": "stream",
     "text": [
      "True\n"
     ]
    }
   ],
   "source": [
    "# .islower()\n",
    "my_string = \"i like learning python!\"\n",
    "print(my_string.islower())"
   ]
  },
  {
   "cell_type": "code",
   "execution_count": 104,
   "metadata": {},
   "outputs": [
    {
     "data": {
      "text/plain": [
       "False"
      ]
     },
     "execution_count": 104,
     "metadata": {},
     "output_type": "execute_result"
    }
   ],
   "source": [
    "# .isupper() - No substring is passed inside ()\n",
    "swapcase.isupper()"
   ]
  },
  {
   "cell_type": "code",
   "execution_count": 106,
   "metadata": {},
   "outputs": [
    {
     "name": "stdout",
     "output_type": "stream",
     "text": [
      "True\n"
     ]
    }
   ],
   "source": [
    "# .isupper() \n",
    "yell = \"YELL!\"\n",
    "print(yell.isupper())"
   ]
  },
  {
   "cell_type": "code",
   "execution_count": 107,
   "metadata": {},
   "outputs": [
    {
     "name": "stdout",
     "output_type": "stream",
     "text": [
      "Does title 'Tech Stocks Soar 3%' end with a %? True\n"
     ]
    }
   ],
   "source": [
    "# .endswith() - Specified substring is passed inside ()\n",
    "headline = \"Tech Stocks Soar 3%\"\n",
    "print(\"Does title '{}' end with a %? {}\".format(headline, headline.endswith('%')))"
   ]
  },
  {
   "cell_type": "code",
   "execution_count": 109,
   "metadata": {},
   "outputs": [
    {
     "name": "stdout",
     "output_type": "stream",
     "text": [
      "alpha_num output is: python37\n",
      "True\n"
     ]
    }
   ],
   "source": [
    "# .endswith()\n",
    "print(\"alpha_num output is:\", alpha_num)\n",
    "print(alpha_num.endswith('37'))"
   ]
  },
  {
   "cell_type": "code",
   "execution_count": 110,
   "metadata": {
    "scrolled": true
   },
   "outputs": [
    {
     "data": {
      "text/plain": [
       "False"
      ]
     },
     "execution_count": 110,
     "metadata": {},
     "output_type": "execute_result"
    }
   ],
   "source": [
    "# .startswith() - Specified substring is passed inside ()\n",
    "\"Python\".startswith('p')"
   ]
  },
  {
   "cell_type": "code",
   "execution_count": 112,
   "metadata": {},
   "outputs": [
    {
     "data": {
      "text/plain": [
       "'i like learning python!'"
      ]
     },
     "execution_count": 112,
     "metadata": {},
     "output_type": "execute_result"
    }
   ],
   "source": [
    "my_string"
   ]
  },
  {
   "cell_type": "code",
   "execution_count": 111,
   "metadata": {},
   "outputs": [
    {
     "data": {
      "text/plain": [
       "True"
      ]
     },
     "execution_count": 111,
     "metadata": {},
     "output_type": "execute_result"
    }
   ],
   "source": [
    "# .startswith()\n",
    "my_string.startswith('i like')"
   ]
  },
  {
   "cell_type": "markdown",
   "metadata": {},
   "source": [
    "##### Common String Methods:\n",
    "* `.count()` - Returns the number of occurence of a substring in a string.\n",
    "* `.find()` - Returns the index of first occurence of a substring in a string from [start:end].\n",
    "* `.index()` - Returns the index of first occurence of a substring in a string from [start:end].\n",
    "* `.join()` - Returns a concatenated string where string elements is joined by a string separator.\n",
    "* `.lower()` - Returns all alphabetic to lowercase.\n",
    "* `.upper()` - Returns all alphabetic to uppercase.\n",
    "* `.replace()` - Returns a string where all occurence of a substring is replaced by a specified substring.\n",
    "* `.split()` - Returns a list of strings separated by a specified separator.\n",
    "* `.strip()` - Returns a string with front and end whitespace removed.\n",
    "\n"
   ]
  },
  {
   "cell_type": "code",
   "execution_count": 113,
   "metadata": {},
   "outputs": [
    {
     "ename": "TypeError",
     "evalue": "count() takes at least 1 argument (0 given)",
     "output_type": "error",
     "traceback": [
      "\u001b[1;31m---------------------------------------------------------------------------\u001b[0m",
      "\u001b[1;31mTypeError\u001b[0m                                 Traceback (most recent call last)",
      "\u001b[1;32m<ipython-input-113-289590a86a3d>\u001b[0m in \u001b[0;36m<module>\u001b[1;34m\u001b[0m\n\u001b[1;32m----> 1\u001b[1;33m \u001b[1;34m\"How many times does 'i' appear in this sentence?\"\u001b[0m\u001b[1;33m.\u001b[0m\u001b[0mcount\u001b[0m\u001b[1;33m(\u001b[0m\u001b[1;33m)\u001b[0m\u001b[1;33m\u001b[0m\u001b[1;33m\u001b[0m\u001b[0m\n\u001b[0m",
      "\u001b[1;31mTypeError\u001b[0m: count() takes at least 1 argument (0 given)"
     ]
    }
   ],
   "source": [
    "\"How many times does 'i' appear in this sentence?\".count()"
   ]
  },
  {
   "cell_type": "code",
   "execution_count": 116,
   "metadata": {},
   "outputs": [
    {
     "name": "stdout",
     "output_type": "stream",
     "text": [
      "4\n",
      "48\n"
     ]
    }
   ],
   "source": [
    "# .count() - A specified substring is passed inside ()\n",
    "print(\"How many times does 'i' appear in this sentence?\".count('i'))\n",
    "print(len(\"How many times does 'i' appear in this sentence?\"))"
   ]
  },
  {
   "cell_type": "code",
   "execution_count": 117,
   "metadata": {},
   "outputs": [
    {
     "data": {
      "text/plain": [
       "'i like learning python!'"
      ]
     },
     "execution_count": 117,
     "metadata": {},
     "output_type": "execute_result"
    }
   ],
   "source": [
    "my_string"
   ]
  },
  {
   "cell_type": "code",
   "execution_count": 118,
   "metadata": {},
   "outputs": [
    {
     "name": "stdout",
     "output_type": "stream",
     "text": [
      "1\n"
     ]
    }
   ],
   "source": [
    "# .count()\n",
    "python_count = my_string.count('python')\n",
    "print(python_count)"
   ]
  },
  {
   "cell_type": "code",
   "execution_count": 121,
   "metadata": {},
   "outputs": [
    {
     "data": {
      "text/plain": [
       "' '"
      ]
     },
     "execution_count": 121,
     "metadata": {},
     "output_type": "execute_result"
    }
   ],
   "source": [
    "\"The first space in this sentence is where? The answer is: \"[3]"
   ]
  },
  {
   "cell_type": "code",
   "execution_count": 119,
   "metadata": {},
   "outputs": [
    {
     "name": "stdout",
     "output_type": "stream",
     "text": [
      "3\n"
     ]
    }
   ],
   "source": [
    "# .find() - A specified substring is passed inside ()\n",
    "print(\"The first space in this sentence is where? The answer is: \".find(' '))"
   ]
  },
  {
   "cell_type": "code",
   "execution_count": 122,
   "metadata": {},
   "outputs": [
    {
     "data": {
      "text/plain": [
       "'s'"
      ]
     },
     "execution_count": 122,
     "metadata": {},
     "output_type": "execute_result"
    }
   ],
   "source": [
    "\"The first space in this sentence is where? The answer is: \"[10]"
   ]
  },
  {
   "cell_type": "code",
   "execution_count": 19,
   "metadata": {},
   "outputs": [
    {
     "name": "stdout",
     "output_type": "stream",
     "text": [
      "16\n"
     ]
    }
   ],
   "source": [
    "# .find() - An optional start and end index can be given to where search begins and ends\n",
    "print(\"The first space in this sentence is where? The answer is: \".find('i', 10))"
   ]
  },
  {
   "cell_type": "code",
   "execution_count": 123,
   "metadata": {},
   "outputs": [
    {
     "data": {
      "text/plain": [
       "'i'"
      ]
     },
     "execution_count": 123,
     "metadata": {},
     "output_type": "execute_result"
    }
   ],
   "source": [
    "\"The first space in this sentence is where? The answer is: \"[16]"
   ]
  },
  {
   "cell_type": "code",
   "execution_count": 20,
   "metadata": {},
   "outputs": [
    {
     "name": "stdout",
     "output_type": "stream",
     "text": [
      "7\n"
     ]
    },
    {
     "data": {
      "text/plain": [
       "'h'"
      ]
     },
     "execution_count": 20,
     "metadata": {},
     "output_type": "execute_result"
    }
   ],
   "source": [
    "# .find() \n",
    "sentence1 = list(\"The first space in this sentence is where? The answer is: \")\n",
    "print(sentence1[20:].count('e'))\n",
    "sentence1[20]"
   ]
  },
  {
   "cell_type": "code",
   "execution_count": 125,
   "metadata": {},
   "outputs": [
    {
     "data": {
      "text/plain": [
       "'h'"
      ]
     },
     "execution_count": 125,
     "metadata": {},
     "output_type": "execute_result"
    }
   ],
   "source": [
    "\"The first space in this sentence is where? The answer is: \"[20]"
   ]
  },
  {
   "cell_type": "code",
   "execution_count": 126,
   "metadata": {},
   "outputs": [
    {
     "data": {
      "text/plain": [
       "'e'"
      ]
     },
     "execution_count": 126,
     "metadata": {},
     "output_type": "execute_result"
    }
   ],
   "source": [
    "\"The first space in this sentence is where? The answer is: \"[40]"
   ]
  },
  {
   "cell_type": "code",
   "execution_count": 124,
   "metadata": {},
   "outputs": [
    {
     "name": "stdout",
     "output_type": "stream",
     "text": [
      "25\n"
     ]
    }
   ],
   "source": [
    "print(\"The first space in this sentence is where? The answer is: \".find('e', 20, 40))"
   ]
  },
  {
   "cell_type": "code",
   "execution_count": 127,
   "metadata": {},
   "outputs": [
    {
     "data": {
      "text/plain": [
       "'e'"
      ]
     },
     "execution_count": 127,
     "metadata": {},
     "output_type": "execute_result"
    }
   ],
   "source": [
    "\"The first space in this sentence is where? The answer is: \"[25]"
   ]
  },
  {
   "cell_type": "code",
   "execution_count": 128,
   "metadata": {},
   "outputs": [
    {
     "data": {
      "text/plain": [
       "-1"
      ]
     },
     "execution_count": 128,
     "metadata": {},
     "output_type": "execute_result"
    }
   ],
   "source": [
    "# .find()\n",
    "hw = 'Hello, World!'\n",
    "hw.find('hello') # returns -1 if unable to find specified substring"
   ]
  },
  {
   "cell_type": "code",
   "execution_count": 129,
   "metadata": {},
   "outputs": [
    {
     "name": "stdout",
     "output_type": "stream",
     "text": [
      "25\n"
     ]
    }
   ],
   "source": [
    "# .index() - A specified substring is passed inside ()\n",
    "alphabet = 'abcdefghijklmnopqrstuvwxyz'\n",
    "z_index = alphabet.index('z')\n",
    "print(z_index)"
   ]
  },
  {
   "cell_type": "code",
   "execution_count": 132,
   "metadata": {},
   "outputs": [
    {
     "data": {
      "text/plain": [
       "1"
      ]
     },
     "execution_count": 132,
     "metadata": {},
     "output_type": "execute_result"
    }
   ],
   "source": [
    "# .index()\n",
    "m = 'AaBc'\n",
    "m.index('aB') # returns only the index from the first substring value, in this example its 'a'"
   ]
  },
  {
   "cell_type": "code",
   "execution_count": 133,
   "metadata": {},
   "outputs": [
    {
     "name": "stdout",
     "output_type": "stream",
     "text": [
      "i_ _l_i_k_e_ _l_e_a_r_n_i_n_g_ _p_y_t_h_o_n\n"
     ]
    }
   ],
   "source": [
    "# .join() - An iterable is passed inside (), iterable examples are String, List, Dictionary, and Tuple\n",
    "my_string = 'i like learning python'\n",
    "_sep = '_'.join(my_string)\n",
    "print(_sep)"
   ]
  },
  {
   "cell_type": "code",
   "execution_count": 134,
   "metadata": {},
   "outputs": [
    {
     "name": "stdout",
     "output_type": "stream",
     "text": [
      "Hello, World!\n"
     ]
    },
    {
     "data": {
      "text/plain": [
       "'HAaBceAaBclAaBclAaBcoAaBc,AaBc AaBcWAaBcoAaBcrAaBclAaBcdAaBc!'"
      ]
     },
     "execution_count": 134,
     "metadata": {},
     "output_type": "execute_result"
    }
   ],
   "source": [
    "# .join()\n",
    "print(hw)\n",
    "m.join(hw)"
   ]
  },
  {
   "cell_type": "code",
   "execution_count": 135,
   "metadata": {},
   "outputs": [
    {
     "name": "stdout",
     "output_type": "stream",
     "text": [
      "A NOTEBOOK ABOUT PYTHON!\n",
      "a notebook about python!\n"
     ]
    }
   ],
   "source": [
    "# .lower() - No substring is passed inside ()\n",
    "yell_str = \"A NOTEBOOK ABOUT PYTHON!\"\n",
    "quiet_yell = yell_str.lower()\n",
    "print(yell_str)\n",
    "print(quiet_yell)"
   ]
  },
  {
   "cell_type": "code",
   "execution_count": 136,
   "metadata": {},
   "outputs": [
    {
     "name": "stdout",
     "output_type": "stream",
     "text": [
      "From SwApCaSe to not swapcase\n"
     ]
    }
   ],
   "source": [
    "# .lower()\n",
    "print(\"From {} to not {}\".format(swapcase, swapcase.lower()))"
   ]
  },
  {
   "cell_type": "code",
   "execution_count": 137,
   "metadata": {},
   "outputs": [
    {
     "data": {
      "text/plain": [
       "'FROM LOWERCASE TO UPPERCASE'"
      ]
     },
     "execution_count": 137,
     "metadata": {},
     "output_type": "execute_result"
    }
   ],
   "source": [
    "# .upper()\n",
    "'from lowercase to uppercase'.upper()"
   ]
  },
  {
   "cell_type": "code",
   "execution_count": 138,
   "metadata": {},
   "outputs": [
    {
     "data": {
      "text/plain": [
       "'FROM SWAPCASE TO UPPERCASE'"
      ]
     },
     "execution_count": 138,
     "metadata": {},
     "output_type": "execute_result"
    }
   ],
   "source": [
    "# .upper()\n",
    "'from SwApCaSe to UPPERcase'.upper()"
   ]
  },
  {
   "cell_type": "code",
   "execution_count": 139,
   "metadata": {},
   "outputs": [
    {
     "name": "stdout",
     "output_type": "stream",
     "text": [
      "The Dog in the Hat by Dr. Seuss Dog\n"
     ]
    }
   ],
   "source": [
    "# .replace() - A specified old substring and new substring is passed inside ()\n",
    "dr_seuss = \"The Cat in the Hat by Dr. Seuss Cat\"\n",
    "cat2dog = dr_seuss.replace(\"Cat\", \"Dog\")\n",
    "print(cat2dog)"
   ]
  },
  {
   "cell_type": "code",
   "execution_count": 141,
   "metadata": {},
   "outputs": [
    {
     "name": "stdout",
     "output_type": "stream",
     "text": [
      "How much WOULD would a WOULDchuck chuck if a WOULDchuck could chuck WOULD?\n"
     ]
    }
   ],
   "source": [
    "# .replace()\n",
    "tongue_twister = \"How much wood would a woodchuck chuck if a woodchuck could chuck wood?\"\n",
    "wood2would = tongue_twister.replace(\"wood\", \"WOULD\" ) # default is to replace all occurence of substring\n",
    "print(wood2would)"
   ]
  },
  {
   "cell_type": "code",
   "execution_count": 142,
   "metadata": {},
   "outputs": [
    {
     "data": {
      "text/plain": [
       "'How much WOULD would a WOULDchuck chuck if a woodchuck could chuck wood?'"
      ]
     },
     "execution_count": 142,
     "metadata": {},
     "output_type": "execute_result"
    }
   ],
   "source": [
    "# .replace()\n",
    "tongue_twister.replace(\"wood\", \"WOULD\", 2) # optional count value given are replaced"
   ]
  },
  {
   "cell_type": "code",
   "execution_count": 143,
   "metadata": {},
   "outputs": [
    {
     "data": {
      "text/plain": [
       "'The Cat in the Hat by Dr. Seuss Cat'"
      ]
     },
     "execution_count": 143,
     "metadata": {},
     "output_type": "execute_result"
    }
   ],
   "source": [
    "dr_seuss"
   ]
  },
  {
   "cell_type": "markdown",
   "metadata": {},
   "source": [
    "dr.seuss_split() == dr_seuss.split(' ')"
   ]
  },
  {
   "cell_type": "code",
   "execution_count": 144,
   "metadata": {},
   "outputs": [
    {
     "name": "stdout",
     "output_type": "stream",
     "text": [
      "['The', 'Cat', 'in', 'the', 'Hat', 'by', 'Dr.', 'Seuss', 'Cat']\n"
     ]
    }
   ],
   "source": [
    "# .split() - A specified string delimiter can be passed inside (), by default will split on whitespace\n",
    "dr_seuss_list = dr_seuss.split()\n",
    "print(dr_seuss_list)"
   ]
  },
  {
   "cell_type": "code",
   "execution_count": 145,
   "metadata": {},
   "outputs": [
    {
     "data": {
      "text/plain": [
       "['The Cat in the ', ' by Dr. Seuss Cat']"
      ]
     },
     "execution_count": 145,
     "metadata": {},
     "output_type": "execute_result"
    }
   ],
   "source": [
    "# .split()\n",
    "dr_seuss.split('Hat')"
   ]
  },
  {
   "cell_type": "code",
   "execution_count": 146,
   "metadata": {},
   "outputs": [
    {
     "name": "stdout",
     "output_type": "stream",
     "text": [
      "[' ', 'bcde', 'bcde', 'cbd', 'bcde', '']\n"
     ]
    }
   ],
   "source": [
    "abcde = \" abcdeabcdeacbdabcdea\"\n",
    "no_a = abcde.split(\"a\")\n",
    "print(no_a)"
   ]
  },
  {
   "cell_type": "code",
   "execution_count": 147,
   "metadata": {},
   "outputs": [
    {
     "data": {
      "text/plain": [
       "'A string with spaces at either end'"
      ]
     },
     "execution_count": 147,
     "metadata": {},
     "output_type": "execute_result"
    }
   ],
   "source": [
    "# .strip() \n",
    "s = \"  A string with spaces at either end   \"\n",
    "s.strip() #removes whitespaces from start and end"
   ]
  },
  {
   "cell_type": "code",
   "execution_count": 149,
   "metadata": {},
   "outputs": [
    {
     "name": "stdout",
     "output_type": "stream",
     "text": [
      "h#hashtag #python #hongkong #852 #code\n"
     ]
    }
   ],
   "source": [
    "# .strip() - An optional character can be passed inside (), if given will strip on that character in front and end of string\n",
    "twitter = \"#h#hashtag #python #hongkong #852 #code###\"\n",
    "hashtag_strip = twitter.strip(\"#\")\n",
    "print(hashtag_strip)"
   ]
  },
  {
   "cell_type": "markdown",
   "metadata": {},
   "source": [
    "##### Chaining String Methods\n",
    "\n",
    "Method chaining is by adding a second method after the first method on an object for example `object.method1().method2()`. "
   ]
  },
  {
   "cell_type": "code",
   "execution_count": 150,
   "metadata": {},
   "outputs": [
    {
     "data": {
      "text/plain": [
       "'The Cat in the Hat by Dr. Seuss Cat'"
      ]
     },
     "execution_count": 150,
     "metadata": {},
     "output_type": "execute_result"
    }
   ],
   "source": [
    "dr_seuss"
   ]
  },
  {
   "cell_type": "code",
   "execution_count": 153,
   "metadata": {},
   "outputs": [
    {
     "data": {
      "text/plain": [
       "['The', 'Cat', 'in', 'the', 'Hat', 'by', 'Dr.', 'Seuss', 'Cat']"
      ]
     },
     "execution_count": 153,
     "metadata": {},
     "output_type": "execute_result"
    }
   ],
   "source": [
    "dr_seuss.split()"
   ]
  },
  {
   "cell_type": "code",
   "execution_count": 152,
   "metadata": {},
   "outputs": [
    {
     "data": {
      "text/plain": [
       "['the', 'cat', 'in', 'the', 'hat', 'by', 'dr.', 'seuss', 'cat']"
      ]
     },
     "execution_count": 152,
     "metadata": {},
     "output_type": "execute_result"
    }
   ],
   "source": [
    "# .lower().split()\n",
    "dr_seuss.lower().split()"
   ]
  },
  {
   "cell_type": "code",
   "execution_count": 154,
   "metadata": {},
   "outputs": [
    {
     "ename": "AttributeError",
     "evalue": "'list' object has no attribute 'lower'",
     "output_type": "error",
     "traceback": [
      "\u001b[1;31m---------------------------------------------------------------------------\u001b[0m",
      "\u001b[1;31mAttributeError\u001b[0m                            Traceback (most recent call last)",
      "\u001b[1;32m<ipython-input-154-927c509dba16>\u001b[0m in \u001b[0;36m<module>\u001b[1;34m\u001b[0m\n\u001b[0;32m      1\u001b[0m \u001b[1;31m# method order matters for chaining methods\u001b[0m\u001b[1;33m\u001b[0m\u001b[1;33m\u001b[0m\u001b[1;33m\u001b[0m\u001b[0m\n\u001b[1;32m----> 2\u001b[1;33m \u001b[0mdr_seuss\u001b[0m\u001b[1;33m.\u001b[0m\u001b[0msplit\u001b[0m\u001b[1;33m(\u001b[0m\u001b[1;33m)\u001b[0m\u001b[1;33m.\u001b[0m\u001b[0mlower\u001b[0m\u001b[1;33m(\u001b[0m\u001b[1;33m)\u001b[0m \u001b[1;31m# by calling .split() first, the object has become a list and .lower() does not work on a list, returns an error\u001b[0m\u001b[1;33m\u001b[0m\u001b[1;33m\u001b[0m\u001b[0m\n\u001b[0m",
      "\u001b[1;31mAttributeError\u001b[0m: 'list' object has no attribute 'lower'"
     ]
    }
   ],
   "source": [
    "# method order matters for chaining methods\n",
    "dr_seuss.split().lower() # by calling .split() first, the object has become a list and .lower() does not work on a list, returns an error"
   ]
  },
  {
   "cell_type": "code",
   "execution_count": 155,
   "metadata": {},
   "outputs": [
    {
     "data": {
      "text/plain": [
       "'T^h^e^ ^C^a^t^ ^i^n^ ^t^h^e^ ^H^a^t^ ^b^y^ ^D^r^.^ ^S^e^u^s^s^ ^C^a^t'"
      ]
     },
     "execution_count": 155,
     "metadata": {},
     "output_type": "execute_result"
    }
   ],
   "source": [
    "'^'.join(dr_seuss)"
   ]
  },
  {
   "cell_type": "code",
   "execution_count": 156,
   "metadata": {},
   "outputs": [
    {
     "data": {
      "text/plain": [
       "34"
      ]
     },
     "execution_count": 156,
     "metadata": {},
     "output_type": "execute_result"
    }
   ],
   "source": [
    "'^'.join(dr_seuss).count('^')"
   ]
  },
  {
   "cell_type": "code",
   "execution_count": 41,
   "metadata": {},
   "outputs": [
    {
     "name": "stdout",
     "output_type": "stream",
     "text": [
      "The Cat in the Hat by Dr. Seuss Cat\n",
      "T^h^e^ ^C^a^t^ ^i^n^ ^t^h^e^ ^H^a^t^ ^b^y^ ^D^r^.^ ^S^e^u^s^s^ ^C^a^t\n"
     ]
    }
   ],
   "source": [
    "# .join().count()\n",
    "'^'.join(dr_seuss).count('^')\n",
    "print(dr_seuss)\n",
    "print('^'.join(dr_seuss))"
   ]
  },
  {
   "cell_type": "code",
   "execution_count": 160,
   "metadata": {},
   "outputs": [
    {
     "data": {
      "text/plain": [
       "'AaBc'"
      ]
     },
     "execution_count": 160,
     "metadata": {},
     "output_type": "execute_result"
    }
   ],
   "source": [
    "m"
   ]
  },
  {
   "cell_type": "code",
   "execution_count": 161,
   "metadata": {},
   "outputs": [
    {
     "data": {
      "text/plain": [
       "['A',\n",
       " ' notebook ',\n",
       " 'bout python!',\n",
       " '',\n",
       " ' notebook ',\n",
       " 'bout python!B',\n",
       " ' notebook ',\n",
       " 'bout python!c']"
      ]
     },
     "execution_count": 161,
     "metadata": {},
     "output_type": "execute_result"
    }
   ],
   "source": [
    "yell_str.lower().join(m).split('a')"
   ]
  },
  {
   "cell_type": "code",
   "execution_count": 42,
   "metadata": {},
   "outputs": [
    {
     "name": "stdout",
     "output_type": "stream",
     "text": [
      "A NOTEBOOK ABOUT PYTHON!\n",
      "AaBc\n",
      "a notebook about python!\n",
      "['A', ' notebook ', 'bout python!', '', ' notebook ', 'bout python!B', ' notebook ', 'bout python!c']\n"
     ]
    }
   ],
   "source": [
    "# .lower().join().split()\n",
    "print(yell_str)\n",
    "print(m)\n",
    "yell_str.lower().join(m).split('a')\n",
    "print(yell_str.lower())\n",
    "print(yell_str.lower().join(m).split('a'))"
   ]
  },
  {
   "cell_type": "markdown",
   "metadata": {},
   "source": [
    "*** Note: experiment will multiple method chains to see results ***"
   ]
  },
  {
   "cell_type": "markdown",
   "metadata": {},
   "source": [
    "### List Methods\n",
    "\n",
    "Common list methods are:\n",
    "\n",
    "* `.copy()` - Returns a copy of a list.\n",
    "* `.append()` - Add a single object at end of list.\n",
    "* `.extend()` - Add an iterable object in sequence at end of list. Main iterable are strings, list, and dictionary.\n",
    "* `.insert()` - Insert an object before a given index.\n",
    "* `.remove()` - Remove first occurence object from a list.\n",
    "* `.index()` - Returns object's first occurence index in a list.\n",
    "* `.count()` - Returns object's number of occurence in a list.\n",
    "* `.sort()` - Sorts the objects in a list in ascending order.\n",
    "    "
   ]
  },
  {
   "cell_type": "code",
   "execution_count": 169,
   "metadata": {},
   "outputs": [
    {
     "data": {
      "text/plain": [
       "['The', 'Cat', 'in', 'the', 'Hat', 'by', 'Dr.', 'Seuss', 'Cat', 5, 5]"
      ]
     },
     "execution_count": 169,
     "metadata": {},
     "output_type": "execute_result"
    }
   ],
   "source": [
    "dr_seuss_list"
   ]
  },
  {
   "cell_type": "code",
   "execution_count": 180,
   "metadata": {},
   "outputs": [
    {
     "data": {
      "text/plain": [
       "1"
      ]
     },
     "execution_count": 180,
     "metadata": {},
     "output_type": "execute_result"
    }
   ],
   "source": [
    "[1,2,3][0]"
   ]
  },
  {
   "cell_type": "code",
   "execution_count": 168,
   "metadata": {},
   "outputs": [
    {
     "name": "stdout",
     "output_type": "stream",
     "text": [
      "['The', 'Cat', 'in', 'the', 'Hat', 'by', 'Dr.', 'Seuss', 'Cat', 5]\n"
     ]
    },
    {
     "data": {
      "text/plain": [
       "['The', 'Cat', 'in', 'the', 'Hat', 'by', 'Dr.', 'Seuss', 'Cat', 5, 5]"
      ]
     },
     "execution_count": 168,
     "metadata": {},
     "output_type": "execute_result"
    }
   ],
   "source": [
    "# .copy()\n",
    "drseuss_copy = dr_seuss_list.copy()\n",
    "print(drseuss_copy)\n",
    "drseuss_copy = dr_seuss_list\n",
    "drseuss_copy.append(5)\n",
    "drseuss_copy"
   ]
  },
  {
   "cell_type": "markdown",
   "metadata": {},
   "source": [
    "*** Assigning a list to variable and then performing methods on variable will affect orginal list *** "
   ]
  },
  {
   "cell_type": "code",
   "execution_count": 170,
   "metadata": {},
   "outputs": [
    {
     "name": "stdout",
     "output_type": "stream",
     "text": [
      "orginal_list contents:  ['a', 's', 1, 2, 'd', 3, '3.14']\n",
      "copy_list contents:  ['a', 's', 1, 2, 'd', 3, '3.14']\n"
     ]
    }
   ],
   "source": [
    "# .copy()\n",
    "original_list = ['a', 's', 1, 2, 'd', 3]\n",
    "copy_list = original_list\n",
    "copy_list.append('3.14') # == original_list.append('3.14')\n",
    "print(\"orginal_list contents: \", original_list)\n",
    "print(\"copy_list contents: \", copy_list)"
   ]
  },
  {
   "cell_type": "code",
   "execution_count": 171,
   "metadata": {},
   "outputs": [
    {
     "name": "stdout",
     "output_type": "stream",
     "text": [
      "orginal_list contents:  ['a', 's', 1, 2, 'd', 3]\n",
      "copy_list contents:  ['a', 's', 1, 2, 'd', 3, '3.14']\n"
     ]
    }
   ],
   "source": [
    "# .copy() - to solve this issue call list with .copy() method\n",
    "original_list = ['a', 's', 1, 2, 'd', 3]\n",
    "copy_list = original_list.copy()\n",
    "copy_list.append('3.14')\n",
    "print(\"orginal_list contents: \", original_list)\n",
    "print(\"copy_list contents: \", copy_list)"
   ]
  },
  {
   "cell_type": "code",
   "execution_count": 173,
   "metadata": {},
   "outputs": [
    {
     "name": "stdout",
     "output_type": "stream",
     "text": [
      "[0, 1, 2, 3, 4]\n",
      "[0, 1, 2, 3, 4, ['The', 'Cat', 'in', 'the', 'Hat', 'by', 'Dr.', 'Seuss', 'Cat', 5, 5]]\n"
     ]
    }
   ],
   "source": [
    "# .append() - appending a list to a list will create a nested list\n",
    "num_list = list(range(5))\n",
    "print(num_list)\n",
    "num_list.append(dr_seuss_list)\n",
    "print(num_list)"
   ]
  },
  {
   "cell_type": "code",
   "execution_count": 174,
   "metadata": {},
   "outputs": [
    {
     "name": "stdout",
     "output_type": "stream",
     "text": [
      "[0, 1, 2, 3, 4, ['The', 'Cat', 'in', 'the', 'Hat', 'by', 'Dr.', 'Seuss', 'Cat', 5, 5], {'code': 'python', 'os': 'unix'}]\n"
     ]
    }
   ],
   "source": [
    "# .append() - \n",
    "num_list.append({'code':'python', 'os': 'unix'})\n",
    "print(num_list)"
   ]
  },
  {
   "cell_type": "code",
   "execution_count": 175,
   "metadata": {},
   "outputs": [
    {
     "name": "stdout",
     "output_type": "stream",
     "text": [
      "[1, 2, 3, 4, 5, 1.8, 6, 'xyz']\n"
     ]
    }
   ],
   "source": [
    "# .append() - appending a string, integer, or float will add in sequence to end of list\n",
    "one2five = [1,2,3,4,5]\n",
    "one2five.append(1.8)\n",
    "one2five.append(6)\n",
    "one2five.append('xyz')\n",
    "print(one2five)"
   ]
  },
  {
   "cell_type": "markdown",
   "metadata": {},
   "source": [
    "*** Some List methods return Nonetype when method operation is assigned to variable because these methods don't return an updated object only modify ***"
   ]
  },
  {
   "cell_type": "code",
   "execution_count": 178,
   "metadata": {},
   "outputs": [
    {
     "name": "stdout",
     "output_type": "stream",
     "text": [
      "['abc', 'def', 'ghi', 1]\n",
      "The list contents:  ['abc', 'def', 'ghi', 1]\n",
      "The list contents:  ['abc', 'def', 'ghi', 1]\n",
      "The list contents:  ['abc', 'def', 'ghi', 1]\n"
     ]
    }
   ],
   "source": [
    "# .append() - Returning a NoneType\n",
    "string_list = ['abc', 'def', 'ghi']\n",
    "mixed_list_action = string_list.append(1) # returns a None type if you assigned the called method to a variable\n",
    "print(mixed_list)\n",
    "mixed_list_action = string_list\n",
    "print(\"The list contents: \", mixed_list)\n",
    "\n",
    "print(\"The list contents: \", string_list) # however the operation has occurred in-place\n",
    "\n",
    "new_list = string_list # after method has been called, then can assign to variable\n",
    "print(\"The list contents: \", new_list)"
   ]
  },
  {
   "cell_type": "code",
   "execution_count": 50,
   "metadata": {},
   "outputs": [
    {
     "name": "stdout",
     "output_type": "stream",
     "text": [
      "no_a contents:  [' ', 'bcde', 'bcde', 'cbd', 'bcde', '']\n"
     ]
    },
    {
     "data": {
      "text/plain": [
       "['abc', 'def', 'ghi', ' ', 'bcde', 'bcde', 'cbd', 'bcde', '']"
      ]
     },
     "execution_count": 50,
     "metadata": {},
     "output_type": "execute_result"
    }
   ],
   "source": [
    "# .extend() \n",
    "str_list = ['abc', 'def', 'ghi']\n",
    "print(\"no_a contents: \", no_a)\n",
    "str_list.extend(no_a)\n",
    "str_list"
   ]
  },
  {
   "cell_type": "code",
   "execution_count": 182,
   "metadata": {},
   "outputs": [
    {
     "name": "stdout",
     "output_type": "stream",
     "text": [
      "[[1, 2], ['a', 'b'], 'python', 3.7, {'mobile': 'iphone', 'food': 'dimsum'}, 852, 'h', 'o', 'n', 'g', ' ', 'k', 'o', 'n', 'g']\n"
     ]
    }
   ],
   "source": [
    "# .extend() - extending with a string\n",
    "mixed_list = [[1,2],['a', 'b'], 'python', 3.7 ,{'mobile': 'iphone', 'food':'dimsum'}, 852]\n",
    "mixed_copy = mixed_list.copy()\n",
    "mixed_list.extend('hong kong') # extend will iterate each character in string and add to list\n",
    "print(mixed_list)"
   ]
  },
  {
   "cell_type": "code",
   "execution_count": 181,
   "metadata": {},
   "outputs": [
    {
     "data": {
      "text/plain": [
       "[[1, 2],\n",
       " ['a', 'b'],\n",
       " 'python',\n",
       " 3.7,\n",
       " {'mobile': 'iphone', 'food': 'dimsum'},\n",
       " 852,\n",
       " 'a',\n",
       " 'z']"
      ]
     },
     "execution_count": 181,
     "metadata": {},
     "output_type": "execute_result"
    }
   ],
   "source": [
    "mixed_copy"
   ]
  },
  {
   "cell_type": "code",
   "execution_count": 183,
   "metadata": {},
   "outputs": [
    {
     "name": "stdout",
     "output_type": "stream",
     "text": [
      "[[1, 2], ['a', 'b'], 'python', 3.7, {'mobile': 'iphone', 'food': 'dimsum'}, 852, 'h', 'o', 'n', 'g', ' ', 'k', 'o', 'n', 'g', 'a', 'z']\n"
     ]
    }
   ],
   "source": [
    "# .extend() - extend with a dictionary only adds the keys to the list\n",
    "mixed_list.extend({'a':1, 'z':26})\n",
    "print(mixed_list)"
   ]
  },
  {
   "cell_type": "code",
   "execution_count": 184,
   "metadata": {},
   "outputs": [
    {
     "name": "stdout",
     "output_type": "stream",
     "text": [
      "[[1, 2], ['a', 'b'], 'python', 3.7, {'mobile': 'iphone', 'food': 'dimsum'}, 852, 'a', 'z']\n"
     ]
    }
   ],
   "source": [
    "# .extend() - pass in as list \n",
    "mixed_copy.extend({'a':0, 'z':25})\n",
    "print(mixed_copy)"
   ]
  },
  {
   "cell_type": "code",
   "execution_count": 185,
   "metadata": {},
   "outputs": [
    {
     "name": "stdout",
     "output_type": "stream",
     "text": [
      "[0, 1, 2, 3, 4, 123]\n"
     ]
    }
   ],
   "source": [
    "# .extend() - Cannot pass in number data type in extend only in a list form\n",
    "x = list(range(5))\n",
    "x.extend([123]) #add another list\n",
    "print(x)"
   ]
  },
  {
   "cell_type": "code",
   "execution_count": 187,
   "metadata": {},
   "outputs": [
    {
     "name": "stdout",
     "output_type": "stream",
     "text": [
      "['a', 's', 1, 2, 'd', 3, '3.14']\n",
      "['a', 's', 1, 2, 'd', 'new value', 3, '3.14']\n"
     ]
    }
   ],
   "source": [
    "# .insert() - An index and value is passed inside ()\n",
    "print(copy_list)\n",
    "copy_list.insert(5,'new value')\n",
    "print(copy_list)"
   ]
  },
  {
   "cell_type": "code",
   "execution_count": 188,
   "metadata": {},
   "outputs": [
    {
     "name": "stdout",
     "output_type": "stream",
     "text": [
      "[0, 1, 2, 3, 4, 123, 'a string']\n"
     ]
    }
   ],
   "source": [
    "# .insert()\n",
    "x.insert(9, 'a string')\n",
    "print(x)"
   ]
  },
  {
   "cell_type": "code",
   "execution_count": 189,
   "metadata": {},
   "outputs": [
    {
     "data": {
      "text/plain": [
       "[0, 1, 2, 3, 4, 'a string']"
      ]
     },
     "execution_count": 189,
     "metadata": {},
     "output_type": "execute_result"
    }
   ],
   "source": [
    "# .remove()\n",
    "x.remove(123) #removes first 11 if finds from list\n",
    "x"
   ]
  },
  {
   "cell_type": "code",
   "execution_count": 191,
   "metadata": {},
   "outputs": [
    {
     "data": {
      "text/plain": [
       "[1, 1, 1, 1]"
      ]
     },
     "execution_count": 191,
     "metadata": {},
     "output_type": "execute_result"
    }
   ],
   "source": [
    "# .remove()\n",
    "ones = [1,1,1,1,1]\n",
    "ones.remove(1) # will only remove a single 1\n",
    "ones"
   ]
  },
  {
   "cell_type": "code",
   "execution_count": 195,
   "metadata": {},
   "outputs": [
    {
     "data": {
      "text/plain": [
       "[]"
      ]
     },
     "execution_count": 195,
     "metadata": {},
     "output_type": "execute_result"
    }
   ],
   "source": [
    "ones.remove(1)\n",
    "ones"
   ]
  },
  {
   "cell_type": "code",
   "execution_count": 196,
   "metadata": {},
   "outputs": [
    {
     "data": {
      "text/plain": [
       "['a', 's', 1, 2, 'd', 'new value', 3, '3.14']"
      ]
     },
     "execution_count": 196,
     "metadata": {},
     "output_type": "execute_result"
    }
   ],
   "source": [
    "copy_list"
   ]
  },
  {
   "cell_type": "code",
   "execution_count": 197,
   "metadata": {},
   "outputs": [
    {
     "data": {
      "text/plain": [
       "5"
      ]
     },
     "execution_count": 197,
     "metadata": {},
     "output_type": "execute_result"
    }
   ],
   "source": [
    "# .index()\n",
    "copy_list.index('new value')"
   ]
  },
  {
   "cell_type": "code",
   "execution_count": 198,
   "metadata": {},
   "outputs": [
    {
     "name": "stdout",
     "output_type": "stream",
     "text": [
      "[[1, 2], ['a', 'b'], 'python', 3.7, {'mobile': 'iphone', 'food': 'dimsum'}, 852, 'h', 'o', 'n', 'g', ' ', 'k', 'o', 'n', 'g', 'a', 'z']\n",
      "how many 'o' in mixed_list?  2\n",
      "how many 'a' in mixed_list?  1\n",
      "[[1, 2], ['a', 'b'], 'python', 3.7, {'mobile': 'iphone', 'food': 'dimsum'}, 852, 'h', 'o', 'n', 'g', ' ', 'k', 'o', 'n', 'g', 'a', 'z']\n"
     ]
    }
   ],
   "source": [
    "# .count() - count will not count values that are nested\n",
    "print(mixed_list)\n",
    "print(\"how many 'o' in mixed_list? \", mixed_list.count('o'))\n",
    "print(\"how many 'a' in mixed_list? \", mixed_list.count('a'))\n",
    "print(mixed_list)"
   ]
  },
  {
   "cell_type": "markdown",
   "metadata": {},
   "source": [
    "### Tuples\n",
    "\n",
    "Since tuples are immutable once created, can't add or remove element, hence they have 2 usable methods `.count()` and `.index()`."
   ]
  },
  {
   "cell_type": "code",
   "execution_count": 61,
   "metadata": {},
   "outputs": [],
   "source": [
    "tup = ('a','b','c','a')"
   ]
  },
  {
   "cell_type": "code",
   "execution_count": 199,
   "metadata": {},
   "outputs": [
    {
     "data": {
      "text/plain": [
       "2"
      ]
     },
     "execution_count": 199,
     "metadata": {},
     "output_type": "execute_result"
    }
   ],
   "source": [
    "tup.count('a')"
   ]
  },
  {
   "cell_type": "code",
   "execution_count": 200,
   "metadata": {},
   "outputs": [
    {
     "data": {
      "text/plain": [
       "0"
      ]
     },
     "execution_count": 200,
     "metadata": {},
     "output_type": "execute_result"
    }
   ],
   "source": [
    "tup.index('a') #returns index of first a it finds"
   ]
  },
  {
   "cell_type": "markdown",
   "metadata": {},
   "source": [
    "### Dictionaries\n",
    "\n",
    "Since dictionaries are a key value store, naturally many of their methods revolve around retriving keys or values. Common dictionary methods are:\n",
    "\n",
    "* `.get()` - Returns value of the key \n",
    "* `.keys()` - Returns all keys from dictionary\n",
    "* `.values()` - Returns all values from dictionary"
   ]
  },
  {
   "cell_type": "code",
   "execution_count": 201,
   "metadata": {},
   "outputs": [
    {
     "name": "stdout",
     "output_type": "stream",
     "text": [
      "{'toast': 2, 'beans': 2, 'eggs': 'sunny side up', 'sausage': 'chorizo'}\n"
     ]
    }
   ],
   "source": [
    "# alternative syntax: d = dict(toast = 2, beans = 2)\n",
    "d = {'toast':2, 'beans':2, 'eggs':'sunny side up', 'sausage':'chorizo'}\n",
    "print(d)"
   ]
  },
  {
   "cell_type": "code",
   "execution_count": 207,
   "metadata": {},
   "outputs": [
    {
     "data": {
      "text/plain": [
       "dict_keys(['toast', 'beans', 'eggs', 'sausage'])"
      ]
     },
     "execution_count": 207,
     "metadata": {},
     "output_type": "execute_result"
    }
   ],
   "source": [
    "# keys()\n",
    "a = d.keys() # get all keys from list\n",
    "a"
   ]
  },
  {
   "cell_type": "code",
   "execution_count": 203,
   "metadata": {},
   "outputs": [
    {
     "data": {
      "text/plain": [
       "dict_values([2, 2, 'sunny side up', 'chorizo'])"
      ]
     },
     "execution_count": 203,
     "metadata": {},
     "output_type": "execute_result"
    }
   ],
   "source": [
    "# .values\n",
    "d.values() #get all values from dict"
   ]
  },
  {
   "cell_type": "code",
   "execution_count": 67,
   "metadata": {},
   "outputs": [
    {
     "data": {
      "text/plain": [
       "dict_items([('toast', 2), ('beans', 2), ('eggs', 'sunny side up'), ('sausage', 'chorizo')])"
      ]
     },
     "execution_count": 67,
     "metadata": {},
     "output_type": "execute_result"
    }
   ],
   "source": [
    "# .items()\n",
    "d.items() #returns (key,value) as  a list of tuples"
   ]
  },
  {
   "cell_type": "code",
   "execution_count": 208,
   "metadata": {},
   "outputs": [
    {
     "name": "stdout",
     "output_type": "stream",
     "text": [
      "toast value is: 2\n",
      "toast value is: 2\n"
     ]
    }
   ],
   "source": [
    "# .get() - alternative syntax: d['toast']\n",
    "print(\"toast value is:\", d.get('toast')) # Return value from key\n",
    "print(\"toast value is:\", d['toast'])"
   ]
  },
  {
   "cell_type": "code",
   "execution_count": 209,
   "metadata": {},
   "outputs": [
    {
     "data": {
      "text/plain": [
       "'there is nothing'"
      ]
     },
     "execution_count": 209,
     "metadata": {},
     "output_type": "execute_result"
    }
   ],
   "source": [
    "# .get() - pass inside () key, optional default value, if key not present, will return default value, by default=None\n",
    "d.get('bacon','there is nothing') #if there is no bacon key, return mushrooms"
   ]
  },
  {
   "cell_type": "code",
   "execution_count": 210,
   "metadata": {},
   "outputs": [
    {
     "data": {
      "text/plain": [
       "{'toast': 2, 'beans': 2, 'eggs': 'sunny side up', 'sausage': 'chorizo'}"
      ]
     },
     "execution_count": 210,
     "metadata": {},
     "output_type": "execute_result"
    }
   ],
   "source": [
    "d"
   ]
  },
  {
   "cell_type": "code",
   "execution_count": 211,
   "metadata": {},
   "outputs": [
    {
     "data": {
      "text/plain": [
       "'None'"
      ]
     },
     "execution_count": 211,
     "metadata": {},
     "output_type": "execute_result"
    }
   ],
   "source": [
    "d.get('tomato', 'None')"
   ]
  },
  {
   "cell_type": "code",
   "execution_count": 212,
   "metadata": {},
   "outputs": [
    {
     "data": {
      "text/plain": [
       "False"
      ]
     },
     "execution_count": 212,
     "metadata": {},
     "output_type": "execute_result"
    }
   ],
   "source": [
    "# 'in' statement returns boolean\n",
    "'toast' in d.values() # check if a key is in dict"
   ]
  },
  {
   "cell_type": "markdown",
   "metadata": {},
   "source": [
    "### In Statement\n",
    "\n",
    "In the previous cell an `in` and also `not in` statements are Python Membership Operators and they can be used to check for membership in a data object. Returns a boolean value. "
   ]
  },
  {
   "cell_type": "code",
   "execution_count": 226,
   "metadata": {},
   "outputs": [
    {
     "data": {
      "text/plain": [
       "False"
      ]
     },
     "execution_count": 226,
     "metadata": {},
     "output_type": "execute_result"
    }
   ],
   "source": [
    "# in \n",
    "'in' not in 'indigo' # for strings, will check membership for substring exists in the string "
   ]
  },
  {
   "cell_type": "code",
   "execution_count": 216,
   "metadata": {},
   "outputs": [
    {
     "data": {
      "text/plain": [
       "True"
      ]
     },
     "execution_count": 216,
     "metadata": {},
     "output_type": "execute_result"
    }
   ],
   "source": [
    "# in \n",
    "'out' in {'out': 'in'} # for dictionary, will check for exact 'key' match"
   ]
  },
  {
   "cell_type": "code",
   "execution_count": 220,
   "metadata": {},
   "outputs": [
    {
     "data": {
      "text/plain": [
       "True"
      ]
     },
     "execution_count": 220,
     "metadata": {},
     "output_type": "execute_result"
    }
   ],
   "source": [
    "# in\n",
    "'india' in ['india', 'indigo', 'indio'] # for list, will check for exact element in list"
   ]
  },
  {
   "cell_type": "code",
   "execution_count": 222,
   "metadata": {},
   "outputs": [
    {
     "data": {
      "text/plain": [
       "True"
      ]
     },
     "execution_count": 222,
     "metadata": {},
     "output_type": "execute_result"
    }
   ],
   "source": [
    "# not in\n",
    "in_var = 'in'\n",
    "mixed_in = [in_var, 'inin', {\"in\": \"out\"}]\n",
    "'in' in mixed_in"
   ]
  },
  {
   "cell_type": "code",
   "execution_count": 223,
   "metadata": {},
   "outputs": [
    {
     "data": {
      "text/plain": [
       "False"
      ]
     },
     "execution_count": 223,
     "metadata": {},
     "output_type": "execute_result"
    }
   ],
   "source": [
    "# not in\n",
    "'1' in '20'"
   ]
  },
  {
   "cell_type": "code",
   "execution_count": 225,
   "metadata": {},
   "outputs": [
    {
     "data": {
      "text/plain": [
       "[0, 1, 2, 3, 4, 5]"
      ]
     },
     "execution_count": 225,
     "metadata": {},
     "output_type": "execute_result"
    }
   ],
   "source": [
    "list(range(6))"
   ]
  },
  {
   "cell_type": "code",
   "execution_count": 224,
   "metadata": {},
   "outputs": [
    {
     "data": {
      "text/plain": [
       "True"
      ]
     },
     "execution_count": 224,
     "metadata": {},
     "output_type": "execute_result"
    }
   ],
   "source": [
    "# not in\n",
    "5 in list(range(6))"
   ]
  },
  {
   "cell_type": "markdown",
   "metadata": {},
   "source": [
    "### If...Else Statements\n",
    "\n",
    "The `if` and `else` statement are decision making and control flow for programs. In programming decision making and control flow is needed to execute a certain code if a condition is satisfied and execute a different code if not satisfied.\n",
    "\n",
    "```python\n",
    "if condition == True:\n",
    "|   |\n",
    "|   body of code # a Tab indention or 4 whitespaces for execute code\n",
    "|   |\n",
    "else:\n",
    "|   |\n",
    "|   body of different code # a Tab indention or 4 whitespaces for execute code\n",
    "```\n",
    "The syntax for `if...else` statement is shown above. `if` and `else` must be aligned together and the `if` body of code and `else` body of code must also be aligned together for the`if...else` statement to execute. By default `if` is `True` and `else` is `False`.\n",
    "\n",
    "#### Python If...Else Flow Chart\n",
    "\n",
    "![pic](https://programmingstack.com/images/if-else-fc.jpg)"
   ]
  },
  {
   "cell_type": "code",
   "execution_count": 78,
   "metadata": {},
   "outputs": [
    {
     "name": "stdout",
     "output_type": "stream",
     "text": [
      "False\n"
     ]
    }
   ],
   "source": [
    "x = 1\n",
    "\n",
    "if (): # by default if condition == True\n",
    "    print(True)\n",
    "else:\n",
    "    print(False)"
   ]
  },
  {
   "cell_type": "code",
   "execution_count": 79,
   "metadata": {},
   "outputs": [
    {
     "data": {
      "text/plain": [
       "'Hello, World!'"
      ]
     },
     "execution_count": 79,
     "metadata": {},
     "output_type": "execute_result"
    }
   ],
   "source": [
    "hw"
   ]
  },
  {
   "cell_type": "code",
   "execution_count": 80,
   "metadata": {},
   "outputs": [
    {
     "name": "stdout",
     "output_type": "stream",
     "text": [
      "hw is not in lower case\n"
     ]
    }
   ],
   "source": [
    "if hw.islower(): # condition is False\n",
    "    \n",
    "    print(hw)\n",
    "    \n",
    "else: # else condition code is executed\n",
    "    \n",
    "    print('hw is not in lower case')"
   ]
  },
  {
   "cell_type": "code",
   "execution_count": 81,
   "metadata": {},
   "outputs": [
    {
     "name": "stdout",
     "output_type": "stream",
     "text": [
      "['i', 'n', 'd', 'i', 'g', 'o']\n"
     ]
    }
   ],
   "source": [
    "if 'in' in 'indigo': # condition is True and if condition code is executed\n",
    "    print(list('indigo'))\n",
    "    \n",
    "else:\n",
    "    print('\"in\" is not in indigo')"
   ]
  },
  {
   "cell_type": "code",
   "execution_count": 82,
   "metadata": {},
   "outputs": [],
   "source": [
    "x = 1.514\n",
    "y = 3/4"
   ]
  },
  {
   "cell_type": "code",
   "execution_count": 83,
   "metadata": {},
   "outputs": [],
   "source": [
    "if y > x:\n",
    "    \n",
    "    print('{} is less than {}'.format(x,y))\n",
    "\n",
    "else:\n",
    "    \n",
    "    pass # Python pass statement means null operation, returns nothing"
   ]
  },
  {
   "cell_type": "code",
   "execution_count": 84,
   "metadata": {},
   "outputs": [
    {
     "name": "stdout",
     "output_type": "stream",
     "text": [
      "1.514 + 0.75 is a positive number\n"
     ]
    }
   ],
   "source": [
    "# if statement can be without else statement, if condition is false, returns nothing\n",
    "# if statement can also include logical operators and/or, &/|\n",
    "if x > 0 and y > 0: # logical and chain\n",
    "    print('{} + {} is a positive number'.format(x,y))"
   ]
  },
  {
   "cell_type": "code",
   "execution_count": 85,
   "metadata": {},
   "outputs": [
    {
     "name": "stdout",
     "output_type": "stream",
     "text": [
      "length difference between dr_seuss_list and mixed_list is: -8\n"
     ]
    }
   ],
   "source": [
    "if len(dr_seuss_list) > 10 | mixed_list.count('a') == 10: # logical or chain\n",
    "    dr_seuss_list.append(mixed_list)\n",
    "    print(dr_seuss_list)\n",
    "else:\n",
    "    print(\"length difference between dr_seuss_list and mixed_list is:\", len(dr_seuss_list) - len(mixed_list))"
   ]
  },
  {
   "cell_type": "markdown",
   "metadata": {},
   "source": [
    "### ELIF Statement\n",
    "\n",
    "The `elif` statement is a combination of `else if` statement. `elif` is used to add multiple conditions to decision making. If the first `if` condition is not satisfied, the code will check for `elif` condition is satisfied or not, if satisfied the `elif` body code will execute and if not, the code will move on to the next `elif` condition or to `else` and so on.\n",
    "\n",
    "```python\n",
    "\n",
    "if condition1:\n",
    "    body of code1\n",
    "elif condition2:\n",
    "    body of code2\n",
    "elif condition3:\n",
    "    body of code3\n",
    "else:\n",
    "    body of code4\n",
    "```\n",
    "\n",
    "As with `if...else` syntax `elif` must be aligned under the `if` statement for the whole statement to execute.\n",
    "\n",
    "#### Python If...Elif...Else Flow Chart\n",
    "![pic](http://www.trytoprogram.com/images/python_ifelseif.jpg)"
   ]
  },
  {
   "cell_type": "code",
   "execution_count": 88,
   "metadata": {},
   "outputs": [
    {
     "name": "stdout",
     "output_type": "stream",
     "text": [
      "enter a number between 1 to 15: 1\n",
      "1 is in range 1 to 5\n"
     ]
    }
   ],
   "source": [
    "# this code checks for input number is in ranges 1-5, 6-10 or 11-15\n",
    "x = int(input('enter a number between 1 to 15: '))\n",
    "\n",
    "if x > 15:\n",
    "    print('{} out of range'.format(x))\n",
    "elif x > 10:\n",
    "    print('{} is in range 11 to 15'.format(x))\n",
    "elif x > 5:\n",
    "    print('{} is in range 6 to 10'.format(x))\n",
    "else:\n",
    "    print('{} is in range 1 to 5'.format(x))"
   ]
  },
  {
   "cell_type": "code",
   "execution_count": 87,
   "metadata": {},
   "outputs": [
    {
     "name": "stdout",
     "output_type": "stream",
     "text": [
      "choose between raining, sunny, cloudy, chilly, and windysunny\n",
      "perfect weather\n"
     ]
    }
   ],
   "source": [
    "# this code checks for input weather and prints appropriate message\n",
    "weather = input('choose between raining, sunny, cloudy, chilly, and windy').lower()\n",
    "\n",
    "if (weather == 'raining') | (weather == 'cloudy'):\n",
    "    print(\"don't forget an umbrella for this gloomy day\")\n",
    "elif (weather == 'windy') | (weather == 'chilly'):\n",
    "    print(\"better wear a coat or a hoodie\")\n",
    "else:\n",
    "    print('perfect weather')"
   ]
  },
  {
   "cell_type": "code",
   "execution_count": null,
   "metadata": {},
   "outputs": [],
   "source": [
    "# elif alternate syntax\n",
    "sport = input('basketball, football, or ??? ').lower()\n",
    "\n",
    "if sport == 'basketball':\n",
    "    print('I like to watch NBA')\n",
    "\n",
    "else:\n",
    "    if sport == 'football':\n",
    "        print('I lke to watch EPL')\n",
    "    else:\n",
    "        print(\"I don't know that sport\")"
   ]
  },
  {
   "cell_type": "markdown",
   "metadata": {},
   "source": [
    "### Nested If...Else Statement\n",
    "A nested `if...else` statement is an `if` statement inside the body of an `if` statement. Having a nested `if` statement can form complex decision making structures. Any number of `if...else` statement can be nested, however the tradeoff is that code will become difficult to read.\n",
    "\n",
    "```python\n",
    "if condition1_1:\n",
    "    if condition1_2:\n",
    "        body of code1_2\n",
    "    elif:\n",
    "        body of code1_3\n",
    "    else:\n",
    "        body of code1_4\n",
    "elif condition2_1:\n",
    "    if condition2_2:\n",
    "        body of code2_2\n",
    "    else:\n",
    "        body of code2_3\n",
    "else:\n",
    "    body of code3\n",
    "```\n",
    "\n",
    "#### Python Nested If...Else Statement\n",
    "![pic](https://1.bp.blogspot.com/-ufncN4gMAO0/TfaSv5nqYOI/AAAAAAAAAGY/vMsRFj9jsjw/s1600/5.GIF)"
   ]
  },
  {
   "cell_type": "code",
   "execution_count": null,
   "metadata": {
    "scrolled": false
   },
   "outputs": [],
   "source": [
    "# nested if statement checks if input is odd or even, positive or negative integer\n",
    "num = int(input('enter an integer:'))\n",
    "\n",
    "if num % 2 == 0:\n",
    "    if num > 0:\n",
    "        print(num, \"is positive even integer and the squared value is\", num ** 2)\n",
    "    else:\n",
    "        print(num, \"is negative even integer and the cubed value is\", num ** 3)\n",
    "\n",
    "else:\n",
    "    if num > 0:\n",
    "        print(num, \"is positive odd integer and the cubed value is\", num ** 3)\n",
    "    else:\n",
    "        print(num, \"is negative odd integer and squared value is\", num ** 2)"
   ]
  },
  {
   "cell_type": "markdown",
   "metadata": {},
   "source": [
    "### Loop Statement\n",
    "\n",
    "Python has two Loop Statements, `for` and `while`. Loops are used for repitition, to run the same code over and over again until results are satisfied. Each run step is called iteration. An iterable is an object that has `__iter__` method such as a list or dictionary. An iterator is the object that is returned from the iterable in each iteration.\n",
    "\n",
    "`for` loops iterate over a sequence, such as a string, list, tuple, array, and dictionary to return the iterator object. The loop will stop when there is nothing else to iterate. The syntax is shown below:\n",
    "\n",
    "```python\n",
    "for iterator in iterable:\n",
    "    code # code is Tab or 4 whitespaces indented\n",
    "```\n",
    "#### Python For Loop Statement Flow Chart\n",
    "![pic](http://www.trytoprogram.com/images/python_for_loop.jpg)\n",
    "\n",
    "`while` statement repeats code until a boolean condition becomes `False`. If the boolean condition never becomes `False` the code will run forever. If The syntax is shown below:\n",
    "```python\n",
    "while condition:\n",
    "    code # code is Tab or 4 whitespaces indented\n",
    "```\n",
    "\n",
    "#### Python While Statement Flow Chart\n",
    "![pic](https://qph.fs.quoracdn.net/main-qimg-d9ad17c6eba27e31f73c0a604f261469)"
   ]
  },
  {
   "cell_type": "code",
   "execution_count": null,
   "metadata": {},
   "outputs": [],
   "source": [
    "# for loop\n",
    "print(list(range(5)))\n",
    "\n",
    "for w in range(5):\n",
    "    print(w)"
   ]
  },
  {
   "cell_type": "code",
   "execution_count": null,
   "metadata": {},
   "outputs": [],
   "source": [
    "# for loop - this code sums the number in a list\n",
    "numbers = [1, 4, 2, 6, 11, 3, 4]\n",
    "total = 0 \n",
    "a = 1\n",
    "for i in numbers:\n",
    "    print('Loop',a)\n",
    "    print('before:',total)\n",
    "    total = total + i # print out each iteration\n",
    "    print('after:',total)\n",
    "    a+=1\n",
    "print(total)"
   ]
  },
  {
   "cell_type": "code",
   "execution_count": null,
   "metadata": {},
   "outputs": [],
   "source": [
    "# for loop\n",
    "l = range(1,101)\n",
    "odd = []\n",
    "even = []\n",
    "\n",
    "for i in l: \n",
    "    if i % 2 == 0:\n",
    "        even.append(i)\n",
    "    else:\n",
    "        odd.append(i)\n",
    "\n",
    "print(\"A list of even numbers\", even, sep='\\n')\n",
    "print('\\n')\n",
    "print(\"A list of odd numbers\", odd, sep='\\n')"
   ]
  },
  {
   "cell_type": "code",
   "execution_count": null,
   "metadata": {},
   "outputs": [],
   "source": [
    "# for loop \n",
    "print(hw)\n",
    "print('\\n')\n",
    "\n",
    "for i in hw:\n",
    "    print(i)"
   ]
  },
  {
   "cell_type": "code",
   "execution_count": null,
   "metadata": {},
   "outputs": [],
   "source": [
    "# for loop - use enumerate() to return both iterator and a counter\n",
    "# this code shows k as index for each value v\n",
    "print(odd)\n",
    "for a, b in enumerate(odd):\n",
    "    print(a,b)"
   ]
  },
  {
   "cell_type": "code",
   "execution_count": null,
   "metadata": {},
   "outputs": [],
   "source": [
    "# for loop - enumerate()\n",
    "for k in enumerate(dr_seuss_list): # if only 1 iterator, will return a tuple\n",
    "    print(k)"
   ]
  },
  {
   "cell_type": "code",
   "execution_count": null,
   "metadata": {},
   "outputs": [],
   "source": [
    "# for loop - to loop over a dictionary use .item() and two iterators to return key and value\n",
    "d = {'apple':1, 'berry':2}\n",
    "print(d)\n",
    "print('\\n')\n",
    "print(d.items())\n",
    "print('\\n')\n",
    "for k,v in d.items(): # The first iterator is for keys and The second iterator (optional) is for values of a dictionary\n",
    "    print('{} has a value of: {}'.format(k,v))"
   ]
  },
  {
   "cell_type": "code",
   "execution_count": null,
   "metadata": {},
   "outputs": [],
   "source": [
    "xyz = {'x': 3, 'y': -7, 'z': 12}\n",
    "\n",
    "for k in xyz.items(): # if only 1 iterator, will return a tuple of key value pair\n",
    "    print(k)"
   ]
  },
  {
   "cell_type": "code",
   "execution_count": null,
   "metadata": {},
   "outputs": [],
   "source": [
    "# while statement\n",
    "count = 0 \n",
    "\n",
    "while count < 5:\n",
    "    print(count)\n",
    "    count = count + 1 \n"
   ]
  },
  {
   "cell_type": "code",
   "execution_count": null,
   "metadata": {},
   "outputs": [],
   "source": [
    "list1 = [0, 1, 2, [3,4,5]]\n",
    "\n",
    "for i in list1:\n",
    "    if i == 3:\n",
    "        for a in list1[3]:\n",
    "            print('yes')\n",
    "            print(a)   \n",
    "    else:\n",
    "        print(i)"
   ]
  },
  {
   "cell_type": "code",
   "execution_count": null,
   "metadata": {},
   "outputs": [],
   "source": [
    "# while statement\n",
    "count = 0\n",
    "\n",
    "while True:\n",
    "    print(count)\n",
    "    count += 1\n",
    "    if count == 6:\n",
    "        break # break is used to stop the while True loop"
   ]
  },
  {
   "cell_type": "code",
   "execution_count": null,
   "metadata": {},
   "outputs": [],
   "source": [
    "## while statement - guessing game\n",
    "import random # import random module \n",
    "\n",
    "guess = 0\n",
    "secret = random.randint(1,20) # generates a random integer from 1 to 20\n",
    "while guess != secret:\n",
    "    g = int(input('guess a number from 1 to 20'))\n",
    "    guess = g\n",
    "    if guess == secret:\n",
    "        print('you guessed correctly, the secret number is {}'.format(secret))\n",
    "    \n",
    "    elif guess > secret:\n",
    "        print('guess is bigger than secret number, guess again')\n",
    "        \n",
    "    else:\n",
    "        print('guess is less than secret number, guess again')\n",
    "        "
   ]
  },
  {
   "cell_type": "markdown",
   "metadata": {},
   "source": [
    "### User Defined Functions\n",
    "\n",
    "In Python along with built-in functions, a coder can make their own functions, these are user defined functions. User defined functions are a unique block of code that is only executed when called to perform a specific task. User defined functions are helpful to a program because they are reusable, helps with organization as it helps break the program down to smaller sections for debugging, makes a program modular, and a can be used in another programs.\n",
    "\n",
    "The general syntax for a function:\n",
    "\n",
    "```python \n",
    "\n",
    "def function_name(argument_1, argument_2,...): # arguments are optional, arguments can also have default values\n",
    "    \"\"\"\n",
    "    Docstring - this section explains your function (optional)\n",
    "    \"\"\"\n",
    "    # operation with arguments, the code inside a functin is by default a Tab or 4 whitespace indention\n",
    "    object = argument_1 + argument_2\n",
    "    # return object\n",
    "    return object\n",
    "\n",
    "# Use function_name to call the function.\n",
    "function_name(argument_1, argument_2)\n",
    "```\n",
    "\n",
    "Rules for functions:\n",
    "\n",
    "* __Defining the function__\n",
    "  * Use the `def` keyword\n",
    "  * Function name should be unique.\n",
    "  * Arguments are optional, but add more information and clarity what the function purpose is. Argument order matters.\n",
    "    * The arguments basically become a variable within the body of the function.\n",
    "  * Use `return` keyword to return some value.\n",
    "\n",
    "* __Using the function__\n",
    "  * To use or *call* your function you use the function name followed by parentheses.\n",
    "  * Inside the parenthese pass the arguments.\n"
   ]
  },
  {
   "cell_type": "code",
   "execution_count": null,
   "metadata": {},
   "outputs": [],
   "source": [
    "def add_one(x):\n",
    "    \"\"\"\n",
    "    This functions adds 1 to a number\n",
    "    \"\"\"\n",
    "    return x + 1\n",
    "\n",
    "a = 3\n",
    "add_one(a)"
   ]
  },
  {
   "cell_type": "code",
   "execution_count": null,
   "metadata": {},
   "outputs": [],
   "source": [
    "# function with no arguemnts\n",
    "def hello_world():\n",
    "    print('Hello, World!')\n",
    "\n",
    "hello_world() # if pass arguments will always print Hello, World!"
   ]
  },
  {
   "cell_type": "code",
   "execution_count": null,
   "metadata": {},
   "outputs": [],
   "source": [
    "# function with default arguments \n",
    "def add_number(x = 1, y = -4):\n",
    "    z = x + y\n",
    "    return z\n",
    "\n",
    "print('No arguments passed in returns:',add_number()) # no arguments passed\n",
    "print('One argument passed in returns:', add_number(-5)) # one argument passed overwrites default x \n",
    "print('Two argument passed in returns:', add_number(2, 3)) # two arguments passed overwrites default x and y"
   ]
  },
  {
   "cell_type": "code",
   "execution_count": null,
   "metadata": {},
   "outputs": [],
   "source": [
    "l = [23, 34,55, 66,340,6,77,2,55,22,57,2]\n",
    "\n",
    "def my_max(num_list):\n",
    "    \"\"\"\n",
    "    This returns the max value in a list\n",
    "    \"\"\"\n",
    "    biggest = num_list[0]\n",
    "    for num in num_list:\n",
    "        if num > biggest:\n",
    "            biggest = num\n",
    "            \n",
    "    return biggest\n",
    " \n",
    "my_max(l)    "
   ]
  },
  {
   "cell_type": "markdown",
   "metadata": {},
   "source": [
    "### Positional Arguments\n",
    "\n",
    "The order for passing arguments to a function matters"
   ]
  },
  {
   "cell_type": "code",
   "execution_count": null,
   "metadata": {},
   "outputs": [],
   "source": [
    "def power(x,a):\n",
    "    return x**a"
   ]
  },
  {
   "cell_type": "code",
   "execution_count": null,
   "metadata": {},
   "outputs": [],
   "source": [
    "power(4,6)"
   ]
  },
  {
   "cell_type": "code",
   "execution_count": null,
   "metadata": {},
   "outputs": [],
   "source": [
    "power(6,4)"
   ]
  },
  {
   "cell_type": "markdown",
   "metadata": {},
   "source": [
    "Alternatively, directly pass the values to the arguments, then the order won't matter."
   ]
  },
  {
   "cell_type": "code",
   "execution_count": null,
   "metadata": {},
   "outputs": [],
   "source": [
    "power(x = 4, a = 6)"
   ]
  },
  {
   "cell_type": "code",
   "execution_count": null,
   "metadata": {},
   "outputs": [],
   "source": [
    "power(a = 4, x = 6)"
   ]
  },
  {
   "cell_type": "markdown",
   "metadata": {},
   "source": [
    "If arguments are in a list ca use an asterisk (`*`) to unpack the arguments into the function. "
   ]
  },
  {
   "cell_type": "code",
   "execution_count": null,
   "metadata": {},
   "outputs": [],
   "source": [
    "l = [2,4]\n",
    "power(*l)\n",
    "power(2,4)"
   ]
  },
  {
   "cell_type": "markdown",
   "metadata": {},
   "source": [
    "### Default Arguments\n",
    "\n",
    "Functions can have default arguments so it is not necessary to pass every argument "
   ]
  },
  {
   "cell_type": "code",
   "execution_count": null,
   "metadata": {},
   "outputs": [],
   "source": [
    "def hello(name='Dom'):\n",
    "    print('Hello, ' + name)"
   ]
  },
  {
   "cell_type": "code",
   "execution_count": null,
   "metadata": {},
   "outputs": [],
   "source": [
    "hello()"
   ]
  },
  {
   "cell_type": "code",
   "execution_count": null,
   "metadata": {},
   "outputs": [],
   "source": [
    "hello('All')"
   ]
  },
  {
   "cell_type": "code",
   "execution_count": null,
   "metadata": {},
   "outputs": [],
   "source": [
    "hello(name=\"Bob\")"
   ]
  },
  {
   "cell_type": "code",
   "execution_count": null,
   "metadata": {},
   "outputs": [],
   "source": [
    "# function with default arguments \n",
    "def add_number(x = 1, y = -4):\n",
    "    z = x + y\n",
    "    return z\n",
    "\n",
    "print('No arguments passed in returns:', add_number()) # no arguments passed\n",
    "print('One argument passed in returns:', add_number(-5)) # one argument passed overwrites default x \n",
    "print('Two argument passed in returns:', add_number(2, 3)) # two arguments passed overwrites default x and y"
   ]
  },
  {
   "cell_type": "markdown",
   "metadata": {},
   "source": [
    "With default arguments, can use a dictionary to pass the values into the function, use the double asterisk (`**`) to unpack the arguments.\n"
   ]
  },
  {
   "cell_type": "code",
   "execution_count": null,
   "metadata": {},
   "outputs": [],
   "source": [
    "def describe_person(first_name=None,last_name=None):\n",
    "    \n",
    "    print(\"First name: {}\\nLast name: {}\".format(first_name,last_name))"
   ]
  },
  {
   "cell_type": "code",
   "execution_count": null,
   "metadata": {},
   "outputs": [],
   "source": [
    "d = {'first_name': 'Dom' , 'last_name': 'Morgan'}"
   ]
  },
  {
   "cell_type": "code",
   "execution_count": null,
   "metadata": {},
   "outputs": [],
   "source": [
    "describe_person(**d)"
   ]
  },
  {
   "cell_type": "code",
   "execution_count": null,
   "metadata": {},
   "outputs": [],
   "source": []
  },
  {
   "cell_type": "markdown",
   "metadata": {},
   "source": [
    "The keys in the a dictionary need to be the same name as the arguments for the function."
   ]
  },
  {
   "cell_type": "code",
   "execution_count": null,
   "metadata": {},
   "outputs": [],
   "source": [
    "d = {'first': 'Dom' , 'last': 'Morgan'}\n",
    "describe_person(**d) ## will error"
   ]
  },
  {
   "cell_type": "markdown",
   "metadata": {},
   "source": [
    "### Variable number of arguments\n",
    "Can pass any number of arguments to a function by using `*` infront of single argument."
   ]
  },
  {
   "cell_type": "code",
   "execution_count": null,
   "metadata": {},
   "outputs": [],
   "source": [
    "def adder(*x):\n",
    "    \n",
    "    total = 0\n",
    "    for num in x:\n",
    "        total += num\n",
    "    return total"
   ]
  },
  {
   "cell_type": "code",
   "execution_count": null,
   "metadata": {},
   "outputs": [],
   "source": [
    "adder(1,2,3,4,5)"
   ]
  },
  {
   "cell_type": "code",
   "execution_count": null,
   "metadata": {},
   "outputs": [],
   "source": [
    "adder(4,6)"
   ]
  },
  {
   "cell_type": "code",
   "execution_count": null,
   "metadata": {},
   "outputs": [],
   "source": [
    "adder(4,7,8,88,4,4,3,4)"
   ]
  },
  {
   "cell_type": "markdown",
   "metadata": {},
   "source": [
    "### Datetime Module\n",
    "\n",
    "Python doesn't recognize dates as a data type, however Python has a library `datetime` that can treat dates as date objects.\n",
    "\n",
    "Python official docs for [datetime](https://docs.python.org/3/library/datetime.html) \n",
    "\n",
    "To use Python libraries, use `import`\n",
    "```python\n",
    "from datetime import datetime\n",
    "```\n",
    "The example above means from Python `datetime` library import `datetime` module. Once imported can now use `datetime` associated methods. Execute`help(datetime)` or `datetime.` + Tab to bring up a list of datetime methods.\n"
   ]
  },
  {
   "cell_type": "code",
   "execution_count": null,
   "metadata": {},
   "outputs": [],
   "source": [
    "from datetime import datetime\n",
    "\n",
    "# assign operation to variable\n",
    "date = datetime.today()\n",
    "print(date)"
   ]
  },
  {
   "cell_type": "code",
   "execution_count": null,
   "metadata": {},
   "outputs": [],
   "source": [
    "# datetime is not a string or numerical\n",
    "type(date)\n",
    "date"
   ]
  },
  {
   "cell_type": "code",
   "execution_count": null,
   "metadata": {},
   "outputs": [],
   "source": [
    "# calling attributes, attributes don't use ()\n",
    "date.year # returns year"
   ]
  },
  {
   "cell_type": "code",
   "execution_count": null,
   "metadata": {},
   "outputs": [],
   "source": [
    "date.month # returns month"
   ]
  },
  {
   "cell_type": "code",
   "execution_count": null,
   "metadata": {},
   "outputs": [],
   "source": [
    "date.day # returns day"
   ]
  },
  {
   "cell_type": "code",
   "execution_count": null,
   "metadata": {},
   "outputs": [],
   "source": [
    "# create parameters for datetime object\n",
    "dt_year = 2018\n",
    "dt_month = 6\n",
    "dt_day = 25\n",
    "dt_hour = 9\n",
    "dt_minute = 30\n",
    "dt_second = 45"
   ]
  },
  {
   "cell_type": "code",
   "execution_count": null,
   "metadata": {},
   "outputs": [],
   "source": [
    "# create datetime object\n",
    "my_date = datetime(dt_year, dt_month, dt_day)\n",
    "print(my_date) # by default time is 00:00:00"
   ]
  },
  {
   "cell_type": "code",
   "execution_count": null,
   "metadata": {},
   "outputs": [],
   "source": [
    "my_date = datetime(dt_year, dt_month, dt_day, dt_hour, dt_minute, dt_second)\n",
    "print(my_date)"
   ]
  },
  {
   "cell_type": "code",
   "execution_count": null,
   "metadata": {},
   "outputs": [],
   "source": [
    "# get attributes from my_date\n",
    "print(\"The year is:\", my_date.year)\n",
    "print(\"The month is:\", my_date.month)\n",
    "print(\"The day is:\", my_date.day)\n",
    "print(\"The hour is:\", my_date.hour)\n",
    "print(\"The minute is:\", my_date.minute)\n",
    "print(\"The second is:\", my_date.second)"
   ]
  },
  {
   "cell_type": "markdown",
   "metadata": {},
   "source": [
    "With a datetime object can use `.strftime()` (string format time) method to return a string version. The syntax is:\n",
    "```python\n",
    "datetime.strftime('directive')\n",
    "```\n",
    "The directive is passed in as a string into `.strftime()`. Below table is a reference to legal format codes:"
   ]
  },
  {
   "cell_type": "markdown",
   "metadata": {},
   "source": [
    "Directive | Meaning | Example \n",
    " ----- | ----- | -----\n",
    " %a | Weekday as locale’s abbreviated name. | Sun, Mon, …, Sat (en_US) \n",
    " %A | Weekday as locale’s full name. | Sunday, Monday, …, Saturday (en_US) \n",
    " %w | Weekday as a decimal number, where 0 is Sunday and 6 is Saturday. | 0, 1, …, 6 \t \n",
    " %d | Day of the month as a zero-padded decimal number. | 01, 02, …, 31 \n",
    " %b | Month as locale’s abbreviated name. | Jan, Feb, …, Dec (en_US) \n",
    " %B | Month as locale’s full name. | January, February, …, December (en_US) \n",
    " %m | Month as a zero-padded decimal number. | 01, 02, …, 12 \n",
    " %y | Year without century as a zero-padded decimal number. | 00, 01, …, 99 \t \n",
    " %Y | Year with century as a decimal number. | 0001, 0002, …, 2013, 2014, …, 9998, 9999 \n",
    " %H | Hour (24-hour clock) as a zero-padded decimal number. | 00, 01, …, 23 \n",
    " %I | Hour (12-hour clock) as a zero-padded decimal number. | 01, 02, …, 12 \n",
    " %p | Locale’s equivalent of either AM or PM. | AM, PM (en_US) \n",
    " %M | Minute as a zero-padded decimal number. | 00, 01, …, 59 \n",
    " %S | Second as a zero-padded decimal number. | 00, 01, …, 59 \n",
    " %f | Microsecond as a decimal number, zero-padded on the left. | 000000, 000001, …, 999999 \n",
    " %z | UTC offset in the form ±HHMM[SS[.ffffff]] (empty string if the object is naive). | (empty), +0000, -0400, +1030, +063415, -030712.345216 \n",
    " %Z | Time zone name (empty string if the object is naive). | (empty), UTC, EST, CST \n",
    " %j | Day of the year as a zero-padded decimal number. | 001, 002, …, 366 \n",
    " %U | Week number of the year (Sunday as the first day of the week) as a zero padded decimal number. All days in a new year preceding the first Sunday are considered to be in week 0. | 00, 01, …, 53\n",
    " %W | Week number of the year (Monday as the first day of the week) as a decimal number. All days in a new year preceding the first Monday are considered to be in week 0. | 00, 01, …, 53 \n",
    " %c | Locale’s appropriate date and time representation. | Tue Aug 16 21:30:00 1988 (en_US) \n",
    " %x | Locale’s appropriate date representation. | 08/16/88 (None); 08/16/1988 (en_US) \n",
    " %X | Locale’s appropriate time representation. | 21:30:00 (en_US) \n",
    " %% | A literal '%' character.\t| % \n",
    " %G | ISO 8601 year with century representing the year that contains the greater part of the ISO week (%V). | 0001, 0002, …, 2013, 2014, …, 9998, 9999 \n",
    " %u | ISO 8601 weekday as a decimal number where 1 is Monday. | 1, 2, …, 7 \n",
    " %V | ISO 8601 week as a decimal number with Monday as the first day of the week. Week 01 is the week containing Jan 4. | 01, 02, …, 53 "
   ]
  },
  {
   "cell_type": "code",
   "execution_count": null,
   "metadata": {},
   "outputs": [],
   "source": [
    "# Return Year\n",
    "my_date.strftime('%Y')"
   ]
  },
  {
   "cell_type": "code",
   "execution_count": null,
   "metadata": {},
   "outputs": [],
   "source": [
    "# Return Month\n",
    "my_date.strftime('%B')"
   ]
  },
  {
   "cell_type": "code",
   "execution_count": null,
   "metadata": {},
   "outputs": [],
   "source": [
    "# Return Day\n",
    "my_date.strftime('%d')"
   ]
  },
  {
   "cell_type": "code",
   "execution_count": null,
   "metadata": {},
   "outputs": [],
   "source": [
    "# Return Year Month Day\n",
    "my_date.strftime(\"%Y %B %d\")"
   ]
  },
  {
   "cell_type": "code",
   "execution_count": null,
   "metadata": {},
   "outputs": [],
   "source": [
    "# Return Day Month Year\n",
    "my_date.strftime(\"%d %B %Y\")"
   ]
  },
  {
   "cell_type": "markdown",
   "metadata": {},
   "source": [
    "Within `datetime` library there is a `time` module for time related methods. To use the `time` module import from `datetime`.\n",
    "\n",
    "```python\n",
    "from datetime import time\n",
    "```\n",
    "Below is `.strftime()` directives for time format:"
   ]
  },
  {
   "cell_type": "markdown",
   "metadata": {},
   "source": [
    "Directive | Meaning \n",
    "-| ----\n",
    "%a | Locale’s abbreviated weekday name.\t \n",
    "%A | Locale’s full weekday name.\t \n",
    "%b | Locale’s abbreviated month name.\t \n",
    "%B | Locale’s full month name.\t \n",
    "%c | Locale’s appropriate date and time representation.\t \n",
    "%d | Day of the month as a decimal number [01,31].\t \n",
    "%H | Hour (24-hour clock) as a decimal number [00,23].\t \n",
    "%I | Hour (12-hour clock) as a decimal number [01,12].\t \n",
    "%j | Day of the year as a decimal number [001,366].\t \n",
    "%m | Month as a decimal number [01,12].\t \n",
    "%M | Minute as a decimal number [00,59].\t \n",
    "%p | Locale’s equivalent of either AM or PM.\n",
    "%S | Second as a decimal number [00,61].\n",
    "%U | Week number of the year (Sunday as the first day of the week) as a decimal number [00,53]. All days in a new year preceding the first Sunday are considered to be in week 0.\n",
    "%w | Weekday as a decimal number [0(Sunday),6].\t \n",
    "%W | Week number of the year (Monday as the first day of the week) as a decimal number [00,53]. All days in a new year preceding the first Monday are considered to be in week 0.\n",
    "%x | Locale’s appropriate date representation.\t \n",
    "%X | Locale’s appropriate time representation.\t \n",
    "%y | Year without century as a decimal number [00,99].\t \n",
    "%Y | Year with century as a decimal number.\t \n",
    "%z | Time zone offset indicating a positive or negative time difference from UTC/GMT of the form +HHMM or -HHMM, where H represents decimal hour digits and M represents decimal minute digits [-23:59, +23:59].\t \n",
    "%Z | Time zone name (no characters if no time zone exists).\t \n",
    "%% | A literal '%' character."
   ]
  },
  {
   "cell_type": "code",
   "execution_count": null,
   "metadata": {},
   "outputs": [],
   "source": [
    "# Time module\n",
    "from datetime import time\n",
    "\n",
    "hour = 13\n",
    "minute = 45\n",
    "seconds = 10\n",
    "t = time(hour,minute,seconds)\n",
    "print(t)"
   ]
  },
  {
   "cell_type": "code",
   "execution_count": null,
   "metadata": {},
   "outputs": [],
   "source": [
    "# Return Hour, Minute, Seconds\n",
    "t.strftime('%I:%M:%S')"
   ]
  },
  {
   "cell_type": "markdown",
   "metadata": {},
   "source": [
    "### Time Module\n",
    "Python also has a `time` library that has time-related functions. Note that not all functions are available for all platforms. The official Python `time` library docs are [here](https://docs.python.org/3.7/library/time.html). Import to use the `time` library.\n",
    "```python\n",
    "import time\n",
    "```"
   ]
  },
  {
   "cell_type": "code",
   "execution_count": null,
   "metadata": {},
   "outputs": [],
   "source": [
    "# return localtime in a tuple\n",
    "import time\n",
    "tt = time.localtime()\n",
    "print(tt)\n",
    "type(tt)"
   ]
  },
  {
   "cell_type": "code",
   "execution_count": null,
   "metadata": {},
   "outputs": [],
   "source": [
    "# index to get values\n",
    "print(\"hour:\", tt[3])\n",
    "print(\"minute:\", tt[4])"
   ]
  },
  {
   "cell_type": "code",
   "execution_count": null,
   "metadata": {},
   "outputs": [],
   "source": [
    "# to strftime\n",
    "time.strftime(\"%H:%M:%S\", tt)"
   ]
  },
  {
   "cell_type": "code",
   "execution_count": null,
   "metadata": {},
   "outputs": [],
   "source": []
  }
 ],
 "metadata": {
  "kernelspec": {
   "display_name": "Python 3",
   "language": "python",
   "name": "python3"
  },
  "language_info": {
   "codemirror_mode": {
    "name": "ipython",
    "version": 3
   },
   "file_extension": ".py",
   "mimetype": "text/x-python",
   "name": "python",
   "nbconvert_exporter": "python",
   "pygments_lexer": "ipython3",
   "version": "3.7.3"
  }
 },
 "nbformat": 4,
 "nbformat_minor": 2
}
